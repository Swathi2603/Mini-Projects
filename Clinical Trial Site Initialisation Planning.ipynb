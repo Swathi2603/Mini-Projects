{
  "nbformat": 4,
  "nbformat_minor": 0,
  "metadata": {
    "colab": {
      "provenance": [],
      "authorship_tag": "ABX9TyNCYUWDiEWe4P3RuD4DF0g6",
      "include_colab_link": true
    },
    "kernelspec": {
      "name": "python3",
      "display_name": "Python 3"
    },
    "language_info": {
      "name": "python"
    }
  },
  "cells": [
    {
      "cell_type": "markdown",
      "metadata": {
        "id": "view-in-github",
        "colab_type": "text"
      },
      "source": [
        "<a href=\"https://colab.research.google.com/github/Swathi2603/Mini-Projects/blob/main/Clinical%20Trial%20Site%20Initialisation%20Planning.ipynb\" target=\"_parent\"><img src=\"https://colab.research.google.com/assets/colab-badge.svg\" alt=\"Open In Colab\"/></a>"
      ]
    },
    {
      "cell_type": "code",
      "execution_count": null,
      "metadata": {
        "id": "TvyKLFhV5OvB"
      },
      "outputs": [],
      "source": [
        "import pandas as pd\n",
        "import numpy as np\n",
        "from sklearn.model_selection import train_test_split\n",
        "from sklearn.ensemble import RandomForestRegressor\n",
        "from sklearn.metrics import mean_squared_error, mean_absolute_error\n",
        "from sklearn.model_selection import GridSearchCV\n",
        "from xgboost import XGBRegressor\n",
        "import xgboost as xgb\n",
        "#test1:CTT-FP\n",
        "#test2:FP-FSI"
      ]
    },
    {
      "cell_type": "code",
      "source": [
        "file_path = '/content/Sample Data (1) (2) (1) (2).xlsx'\n",
        "data = pd.read_excel(file_path)\n",
        "study_df = pd.read_excel(file_path, sheet_name='study')\n",
        "study_country_df = pd.read_excel(file_path, sheet_name='study_country')\n",
        "print(data.head())\n",
        "print(data.columns)"
      ],
      "metadata": {
        "colab": {
          "base_uri": "https://localhost:8080/"
        },
        "id": "4L77laSB5fMy",
        "outputId": "6e0309ce-e0c6-472d-dba3-fb811c9c6a8f"
      },
      "execution_count": null,
      "outputs": [
        {
          "output_type": "stream",
          "name": "stdout",
          "text": [
            "  StudyCode DevelopmentUnit StudyStatus      Phase PediatricOnly  \\\n",
            "0  CXD4368A     Respiratory    Complete    Phase I            No   \n",
            "1  CXD1591A  Cardiovascular      Active   Phase IV            No   \n",
            "2  CXD2664A        Oncology    Complete  Phase III           Yes   \n",
            "3  CXD6887A     Respiratory    Complete   Phase IV           Yes   \n",
            "4  CXD8680A  Cardiovascular      Active  Phase III            No   \n",
            "\n",
            "  New Indication      Blinding  CTTActual ActualFinalProtocol  CTT-FP_weeks  \n",
            "0            Yes  Single Blind 2018-05-12          2019-05-20     53.285714  \n",
            "1             No    Open Label 2018-05-17          2019-06-16     56.428571  \n",
            "2            Yes  Double Blind 2018-09-07          2019-05-25     37.142857  \n",
            "3            Yes    Open Label 2018-04-11          2019-08-08     69.142857  \n",
            "4             No    Open Label 2018-05-30          2019-01-11     32.285714  \n",
            "Index(['StudyCode', 'DevelopmentUnit', 'StudyStatus', 'Phase', 'PediatricOnly',\n",
            "       'New Indication', 'Blinding', 'CTTActual', 'ActualFinalProtocol',\n",
            "       'CTT-FP_weeks'],\n",
            "      dtype='object')\n"
          ]
        }
      ]
    },
    {
      "cell_type": "code",
      "source": [
        "merged_df = pd.merge(study_country_df, study_df, on='StudyCode')\n",
        "print(merged_df.head())\n",
        "print(merged_df.isnull().sum())\n"
      ],
      "metadata": {
        "colab": {
          "base_uri": "https://localhost:8080/"
        },
        "id": "u38whtRWRNRz",
        "outputId": "85e40555-8816-4fc0-8d74-b8dec018b867"
      },
      "execution_count": null,
      "outputs": [
        {
          "output_type": "stream",
          "name": "stdout",
          "text": [
            "  StudyCode    Country CountryHASubActual Country1SIVActual  \\\n",
            "0  CXD4368A  Australia         2020-06-21        2021-07-19   \n",
            "1  CXD4368A        USA         2019-12-08        2020-12-20   \n",
            "2  CXD4368A      Spain         2019-10-21        2020-08-09   \n",
            "3  CXD4368A     Brazil         2021-03-15        2020-06-05   \n",
            "4  CXD4368A      Japan         2020-06-08        2020-10-04   \n",
            "\n",
            "  ActualFinalProtocol_x  FP-FSI_weeks DevelopmentUnit StudyStatus    Phase  \\\n",
            "0            2019-05-20    113.000000     Respiratory    Complete  Phase I   \n",
            "1            2019-05-20     82.857143     Respiratory    Complete  Phase I   \n",
            "2            2019-05-20     63.857143     Respiratory    Complete  Phase I   \n",
            "3            2019-05-20     54.571429     Respiratory    Complete  Phase I   \n",
            "4            2019-05-20     71.857143     Respiratory    Complete  Phase I   \n",
            "\n",
            "  PediatricOnly New Indication      Blinding  CTTActual ActualFinalProtocol_y  \\\n",
            "0            No            Yes  Single Blind 2018-05-12            2019-05-20   \n",
            "1            No            Yes  Single Blind 2018-05-12            2019-05-20   \n",
            "2            No            Yes  Single Blind 2018-05-12            2019-05-20   \n",
            "3            No            Yes  Single Blind 2018-05-12            2019-05-20   \n",
            "4            No            Yes  Single Blind 2018-05-12            2019-05-20   \n",
            "\n",
            "   CTT-FP_weeks  \n",
            "0     53.285714  \n",
            "1     53.285714  \n",
            "2     53.285714  \n",
            "3     53.285714  \n",
            "4     53.285714  \n",
            "StudyCode                0\n",
            "Country                  0\n",
            "CountryHASubActual       0\n",
            "Country1SIVActual        0\n",
            "ActualFinalProtocol_x    0\n",
            "FP-FSI_weeks             0\n",
            "DevelopmentUnit          0\n",
            "StudyStatus              0\n",
            "Phase                    0\n",
            "PediatricOnly            0\n",
            "New Indication           0\n",
            "Blinding                 0\n",
            "CTTActual                0\n",
            "ActualFinalProtocol_y    0\n",
            "CTT-FP_weeks             0\n",
            "dtype: int64\n"
          ]
        }
      ]
    },
    {
      "cell_type": "code",
      "source": [
        "#CTT-FP\n",
        "feature_columns = [ 'DevelopmentUnit', 'Phase', 'New Indication','Blinding','PediatricOnly']  # Update these names based on the actual column names\n",
        "target_column = 'CTT-FP_weeks'\n",
        "\n",
        "# Extracting features and target variable\n",
        "X = data[feature_columns]\n",
        "y = data[target_column]\n",
        "X = pd.get_dummies(X, drop_first=False)\n",
        "\n",
        "# Splitting the data into training and testing sets\n",
        "X_train1, X_test1, y_train1, y_test1 = train_test_split(X, y, test_size=0.2, random_state=42)\n",
        "X_train1.columns"
      ],
      "metadata": {
        "colab": {
          "base_uri": "https://localhost:8080/"
        },
        "outputId": "e684ec88-c014-452b-9119-27f9ec808c69",
        "id": "FTsMtxR2A3Lx"
      },
      "execution_count": null,
      "outputs": [
        {
          "output_type": "execute_result",
          "data": {
            "text/plain": [
              "Index(['DevelopmentUnit_Cardiovascular', 'DevelopmentUnit_NeuroScience',\n",
              "       'DevelopmentUnit_Oncology', 'DevelopmentUnit_Respiratory',\n",
              "       'Phase_Phase I', 'Phase_Phase II', 'Phase_Phase III', 'Phase_Phase IV',\n",
              "       'New Indication_No', 'New Indication_Yes', 'Blinding_Double Blind',\n",
              "       'Blinding_Open Label', 'Blinding_Single Blind', 'PediatricOnly_No',\n",
              "       'PediatricOnly_Yes'],\n",
              "      dtype='object')"
            ]
          },
          "metadata": {},
          "execution_count": 5
        }
      ]
    },
    {
      "cell_type": "code",
      "execution_count": null,
      "metadata": {
        "colab": {
          "base_uri": "https://localhost:8080/"
        },
        "id": "t_RxiUJRX8N9",
        "outputId": "ed4866ac-fbaa-46be-8089-9d59a5f6673c"
      },
      "outputs": [
        {
          "output_type": "execute_result",
          "data": {
            "text/plain": [
              "Index(['Country_Argentina', 'Country_Australia', 'Country_Brazil',\n",
              "       'Country_Canada', 'Country_China', 'Country_France', 'Country_India',\n",
              "       'Country_Italy', 'Country_Japan', 'Country_South Africa',\n",
              "       'Country_Spain', 'Country_UK', 'Country_USA',\n",
              "       'DevelopmentUnit_Cardiovascular', 'DevelopmentUnit_NeuroScience',\n",
              "       'DevelopmentUnit_Oncology', 'DevelopmentUnit_Respiratory',\n",
              "       'Phase_Phase I', 'Phase_Phase II', 'Phase_Phase III', 'Phase_Phase IV',\n",
              "       'New Indication_No', 'New Indication_Yes', 'Blinding_Double Blind',\n",
              "       'Blinding_Open Label', 'Blinding_Single Blind', 'PediatricOnly_No',\n",
              "       'PediatricOnly_Yes'],\n",
              "      dtype='object')"
            ]
          },
          "metadata": {},
          "execution_count": 6
        }
      ],
      "source": [
        "#FP-FSI\n",
        "feature_columns = [ 'Country','DevelopmentUnit', 'Phase', 'New Indication','Blinding','PediatricOnly']  # Update these names based on the actual column names\n",
        "target_column = 'FP-FSI_weeks'\n",
        "\n",
        "# Extracting features and target variable\n",
        "X = merged_df[feature_columns]\n",
        "y = merged_df[target_column]\n",
        "X = pd.get_dummies(X, drop_first=False)\n",
        "\n",
        "# Splitting the data into training and testing sets\n",
        "X_train2, X_test2, y_train2, y_test2 = train_test_split(X, y, test_size=0.2, random_state=42)\n",
        "X_train2.columns\n",
        "\n"
      ]
    },
    {
      "cell_type": "code",
      "source": [
        "#CTT-FP\n",
        "param_grid = {\n",
        "    'n_estimators': [100,300,500],\n",
        "    'max_depth': [3, 5, 7],\n",
        "    'min_samples_split': [2, 5, 10],\n",
        "    'min_samples_leaf': [1, 2, 4]\n",
        "}\n",
        "rf = RandomForestRegressor()\n",
        "grid_search = GridSearchCV(estimator=rf, param_grid=param_grid, cv=5, n_jobs=-1, verbose=2)\n",
        "grid_search.fit(X_train1, y_train1)\n",
        "print(\"Best parameters found: \", grid_search.best_params_)\n",
        "\n",
        "\n",
        "# Training the model with the best parameters\n",
        "best_rf = grid_search.best_estimator_\n",
        "\n"
      ],
      "metadata": {
        "colab": {
          "base_uri": "https://localhost:8080/"
        },
        "outputId": "e23c5461-533b-42ee-8d7b-ce82b54f973a",
        "id": "lpK-ne1xBUE4"
      },
      "execution_count": null,
      "outputs": [
        {
          "output_type": "stream",
          "name": "stdout",
          "text": [
            "Fitting 5 folds for each of 81 candidates, totalling 405 fits\n",
            "Best parameters found:  {'max_depth': 3, 'min_samples_leaf': 4, 'min_samples_split': 5, 'n_estimators': 100}\n"
          ]
        }
      ]
    },
    {
      "cell_type": "code",
      "source": [
        "y_pred1 = best_rf.predict(X_test1)\n",
        "mse = mean_squared_error(y_test1, y_pred1)\n",
        "print(f'Mean Squared Error: {mse}')\n",
        "mae = mean_absolute_error(y_test1, y_pred1)\n",
        "print(f'Mean Absolute Error (MAE): {mae}')\n",
        "rmse = np.sqrt(mse)\n",
        "print(f'Root Mean Squared Error (RMSE): {rmse}')\n",
        "target_range = y.max() - y.min()\n",
        "normalized_mse = mse / target_range\n",
        "print(f'Normalized MSE: {normalized_mse}')\n",
        "normalized_rmse = rmse / target_range\n",
        "print(f'Normalized RMSE: {normalized_rmse}')\n",
        "accuracy = (1 - normalized_rmse) * 100\n",
        "print(f'Accuracy: {accuracy:.2f}%')\n"
      ],
      "metadata": {
        "colab": {
          "base_uri": "https://localhost:8080/"
        },
        "outputId": "8789677b-dad7-43fb-c18a-f1bcd326cb60",
        "id": "cJfYbBfkBirH"
      },
      "execution_count": null,
      "outputs": [
        {
          "output_type": "stream",
          "name": "stdout",
          "text": [
            "Mean Squared Error: 219.85321845274657\n",
            "Mean Absolute Error (MAE): 11.782208347418972\n",
            "Root Mean Squared Error (RMSE): 14.827448143653937\n",
            "Normalized MSE: 2.249959837966704\n",
            "Normalized RMSE: 0.1517428903590315\n",
            "Accuracy: 84.83%\n"
          ]
        }
      ]
    },
    {
      "cell_type": "code",
      "execution_count": null,
      "metadata": {
        "id": "m-B_yEO5aJzf",
        "colab": {
          "base_uri": "https://localhost:8080/"
        },
        "outputId": "8fa26651-8c2a-4220-b37d-034e06d3d8dd"
      },
      "outputs": [
        {
          "output_type": "stream",
          "name": "stdout",
          "text": [
            "Fitting 5 folds for each of 243 candidates, totalling 1215 fits\n",
            "Best parameters found:  {'colsample_bytree': 0.7, 'learning_rate': 0.01, 'max_depth': 5, 'n_estimators': 100, 'subsample': 0.8}\n"
          ]
        }
      ],
      "source": [
        "#FP_FSI\n",
        "param_grid = {\n",
        "    'n_estimators': [100,300,500],\n",
        "    'learning_rate': [0.01, 0.1, 0.2],\n",
        "    'max_depth': [3, 5, 7],\n",
        "    'subsample': [0.7, 0.8, 0.9],\n",
        "    'colsample_bytree': [0.7, 0.8, 0.9]\n",
        "}\n",
        "xgb_reg = xgb.XGBRegressor(objective='reg:squarederror', enable_categorical=True)\n",
        "grid_search = GridSearchCV(estimator=xgb_reg, param_grid=param_grid, cv=5, scoring='neg_mean_squared_error', n_jobs=-1, verbose=2)\n",
        "grid_search.fit(X_train2, y_train2)\n",
        "print(\"Best parameters found: \", grid_search.best_params_)\n",
        "\n",
        "# Training the model with the best parameters\n",
        "best_model = grid_search.best_estimator_"
      ]
    },
    {
      "cell_type": "code",
      "source": [
        "y_pred2 = best_model.predict(X_test2)\n",
        "mse = mean_squared_error(y_test2, y_pred2)\n",
        "print(f'Mean Squared Error(MSE): {mse}')\n",
        "mae = mean_absolute_error(y_test2, y_pred2)\n",
        "print(f'Mean Absolute Error (MAE): {mae}')\n",
        "rmse = np.sqrt(mse)\n",
        "print(f'Root Mean Squared Error (RMSE): {rmse}')\n",
        "target_range = y.max() - y.min()\n",
        "normalized_mse = mse / target_range\n",
        "print(f'Normalized MSE: {normalized_mse}')\n",
        "baseline_mse = 482\n",
        "relative_improvement = (baseline_mse - mse) / baseline_mse * 100\n",
        "print(f'Relative Improvement: {relative_improvement:.2f}%')\n",
        "mse = mean_squared_error(y_test2, y_pred2)\n",
        "rmse = np.sqrt(mse)\n",
        "\n",
        "# Calculate the range of the target variable\n",
        "target_range = y.max() - y.min()\n",
        "\n",
        "# Normalize RMSE\n",
        "normalized_rmse = rmse / target_range\n",
        "\n",
        "# Print the results\n",
        "print(f'Normalized RMSE: {normalized_rmse}')\n",
        "accuracy = (1 - normalized_rmse) * 100\n",
        "print(f'Accuracy: {accuracy:.2f}%')\n",
        "\n",
        "\n",
        "\n"
      ],
      "metadata": {
        "colab": {
          "base_uri": "https://localhost:8080/"
        },
        "id": "EW8qHxqnS14h",
        "outputId": "456ceb89-50aa-4598-ebbd-836a12d4007c"
      },
      "execution_count": null,
      "outputs": [
        {
          "output_type": "stream",
          "name": "stdout",
          "text": [
            "Mean Squared Error(MSE): 309.3768297048761\n",
            "Mean Absolute Error (MAE): 14.38391435317182\n",
            "Root Mean Squared Error (RMSE): 17.589111111846332\n",
            "Normalized MSE: 3.1661371461025327\n",
            "Relative Improvement: 35.81%\n",
            "Normalized RMSE: 0.18000552307445072\n",
            "Accuracy: 82.00%\n"
          ]
        }
      ]
    },
    {
      "cell_type": "code",
      "source": [
        "import numpy as np\n",
        "import pandas as pd\n",
        "\n",
        "# Function to get user inputs\n",
        "def get_user_input():\n",
        "    # Prompting the user for inputs\n",
        "    Country = input(\"Country (Argentina, Australia, Brazil, Canada, China, France, India, Italy, Japan, South Africa, Spain, UK, USA): \")\n",
        "    development_unit = input(\"Development Unit (Cardiovascular, NeuroScience, Oncology, Respiratory): \")\n",
        "    phase = input(\"Phase (Phase I, Phase II, Phase III, Phase IV): \")\n",
        "    new_indication = input(\"Is this a new indication? (Yes, No): \")\n",
        "    blinding = input(\"Enter Blinding (Double Blind, Open Label, Single Blind): \")\n",
        "    pediatric = input(\"Is this pediatric only (Yes, No): \")\n",
        "\n",
        "    # Constructing the user input dictionary\n",
        "    user_input = {\n",
        "        'Country': Country,\n",
        "        'DevelopmentUnit': development_unit,\n",
        "        'Phase': phase,\n",
        "        'New Indication': new_indication,\n",
        "        'Blinding': blinding,\n",
        "        'PediatricOnly': pediatric\n",
        "    }\n",
        "    return user_input\n",
        "\n",
        "def convert_to_dataframe(user_input, columns):\n",
        "    # Initialize the DataFrame with zeros\n",
        "    input_df = pd.DataFrame(np.zeros((1, len(columns))), columns=columns)\n",
        "\n",
        "\n",
        "    for key, value in user_input.items():\n",
        "        column_name = f\"{key}_{value}\"\n",
        "        if column_name in columns:\n",
        "            input_df.at[0, column_name] = 1\n",
        "        else:\n",
        "            print(f\"Column '{column_name}' not found in columns\")\n",
        "\n",
        "    return input_df\n",
        "\n",
        "# Define the columns as provided\n",
        "columns1 = pd.Index(['DevelopmentUnit_Cardiovascular', 'DevelopmentUnit_NeuroScience', 'DevelopmentUnit_Oncology', 'DevelopmentUnit_Respiratory',\n",
        "                     'Phase_Phase I', 'Phase_Phase II', 'Phase_Phase III', 'Phase_Phase IV',\n",
        "                     'New Indication_No', 'New Indication_Yes', 'Blinding_Double Blind', 'Blinding_Open Label', 'Blinding_Single Blind',\n",
        "                     'PediatricOnly_No', 'PediatricOnly_Yes'])\n",
        "\n",
        "columns2 = pd.Index(['Country_Argentina', 'Country_Australia', 'Country_Brazil', 'Country_Canada', 'Country_China', 'Country_France',\n",
        "                     'Country_India', 'Country_Italy', 'Country_Japan', 'Country_South Africa', 'Country_Spain', 'Country_UK', 'Country_USA',\n",
        "                     'DevelopmentUnit_Cardiovascular', 'DevelopmentUnit_NeuroScience', 'DevelopmentUnit_Oncology', 'DevelopmentUnit_Respiratory',\n",
        "                     'Phase_Phase I', 'Phase_Phase II', 'Phase_Phase III', 'Phase_Phase IV',\n",
        "                     'New Indication_No', 'New Indication_Yes', 'Blinding_Double Blind', 'Blinding_Open Label', 'Blinding_Single Blind',\n",
        "                     'PediatricOnly_No', 'PediatricOnly_Yes'])\n",
        "\n",
        "# Prompt user for inputs\n",
        "user_input = get_user_input()\n",
        "\n",
        "# Prepare user inputs for prediction\n",
        "user_input_CTT_FP = {\n",
        "    'DevelopmentUnit': user_input['DevelopmentUnit'],\n",
        "    'Phase': user_input['Phase'],\n",
        "    'New Indication': user_input['New Indication'],\n",
        "    'Blinding': user_input['Blinding'],\n",
        "    'PediatricOnly': user_input['PediatricOnly']\n",
        "}\n",
        "\n",
        "user_input_FP_FSI = {\n",
        "    'Country': user_input['Country'],\n",
        "    'DevelopmentUnit': user_input['DevelopmentUnit'],\n",
        "    'Phase': user_input['Phase'],\n",
        "    'New Indication': user_input['New Indication'],\n",
        "    'Blinding': user_input['Blinding'],\n",
        "    'PediatricOnly': user_input['PediatricOnly']\n",
        "}\n",
        "\n",
        "# Convert the user input to DataFrames\n",
        "input_df1 = convert_to_dataframe(user_input_CTT_FP, columns1)\n",
        "input_df2 = convert_to_dataframe(user_input_FP_FSI, columns2)\n",
        "\n",
        "# Make predictions\n",
        "y_pred1 = best_rf.predict(input_df1)\n",
        "y_pred2 = best_model.predict(input_df2)\n",
        "\n",
        "# Rounding predictions\n",
        "rounded_y_pred1 = round(y_pred1[0])\n",
        "rounded_y_pred2 = round(y_pred2[0])\n",
        "\n",
        "# Output results\n",
        "print(\"Predicted CTT-FP Weeks:\", rounded_y_pred1, \"Weeks\")\n",
        "print(\"Predicted FP-FSI Weeks:\", rounded_y_pred2, \"Weeks\")\n",
        "print(\"TOTAL WEEKS FOR CTT-FSI:\", rounded_y_pred1 + rounded_y_pred2, \"Weeks\")\n"
      ],
      "metadata": {
        "colab": {
          "base_uri": "https://localhost:8080/"
        },
        "id": "j8KoHUm0j_kJ",
        "outputId": "dec912dd-b36b-4bfb-edaf-21ee159d72ef"
      },
      "execution_count": null,
      "outputs": [
        {
          "output_type": "stream",
          "name": "stdout",
          "text": [
            "Country (Argentina, Australia, Brazil, Canada, China, France, India, Italy, Japan, South Africa, Spain, UK, USA): USA\n",
            "Development Unit (Cardiovascular, NeuroScience, Oncology, Respiratory): Oncology\n",
            "Phase (Phase I, Phase II, Phase III, Phase IV): Phase III\n",
            "Is this a new indication? (Yes, No): Yes\n",
            "Enter Blinding (Double Blind, Open Label, Single Blind): Open Label\n",
            "Is this pediatric only (Yes, No): Yes\n",
            "Predicted CTT-FP Weeks: 50 Weeks\n",
            "Predicted FP-FSI Weeks: 70 Weeks\n",
            "TOTAL WEEKS FOR CTT-FSI: 120 Weeks\n"
          ]
        }
      ]
    },
    {
      "source": [
        "results = []\n",
        "countries = ['Argentina', 'Australia', 'Brazil', 'Canada', 'China', 'France', 'India', 'Italy', 'Japan', 'South Africa', 'Spain', 'UK', 'USA']\n",
        "\n",
        "def get_user_input():\n",
        "    # Prompting the user for inputs\n",
        "    development_unit = input(\"Development Unit (Cardiovascular, NeuroScience, Oncology, Respiratory): \")\n",
        "    phase = input(\"Phase (Phase I, Phase II, Phase III, Phase IV): \")\n",
        "    new_indication = input(\"Is this a new indication? (Yes, No): \")\n",
        "    blinding = input(\"Enter Blinding (Double Blind, Open Label, Single Blind): \")\n",
        "    pediatric = input(\"Is this pediatric only (Yes, No): \")\n",
        "\n",
        "    # Constructing the user input dictionary\n",
        "    user_input = {\n",
        "        'DevelopmentUnit': development_unit,\n",
        "        'Phase': phase,\n",
        "        'New Indication': new_indication,\n",
        "        'Blinding': blinding,\n",
        "        'PediatricOnly': pediatric\n",
        "    }\n",
        "    return user_input\n",
        "\n",
        "def convert_to_dataframe(user_input, columns):\n",
        "\n",
        "    input_df = pd.DataFrame(np.zeros((1, len(columns))), columns=columns)\n",
        "\n",
        "\n",
        "    for key, value in user_input.items():\n",
        "        column_name = f\"{key}_{value}\"\n",
        "        if column_name in columns:\n",
        "            input_df.at[0, column_name] = 1\n",
        "        else:\n",
        "            print(f\"Column '{column_name}' not found in columns\")\n",
        "\n",
        "    return input_df\n",
        "\n",
        "\n",
        "columns1 = pd.Index(['DevelopmentUnit_Cardiovascular', 'DevelopmentUnit_NeuroScience', 'DevelopmentUnit_Oncology', 'DevelopmentUnit_Respiratory',\n",
        "                     'Phase_Phase I', 'Phase_Phase II', 'Phase_Phase III', 'Phase_Phase IV',\n",
        "                     'New Indication_No', 'New Indication_Yes', 'Blinding_Double Blind', 'Blinding_Open Label', 'Blinding_Single Blind',\n",
        "                     'PediatricOnly_No', 'PediatricOnly_Yes'])\n",
        "\n",
        "columns2 = pd.Index(['Country_Argentina', 'Country_Australia', 'Country_Brazil', 'Country_Canada', 'Country_China', 'Country_France',\n",
        "                     'Country_India', 'Country_Italy', 'Country_Japan', 'Country_South Africa', 'Country_Spain', 'Country_UK', 'Country_USA',\n",
        "                     'DevelopmentUnit_Cardiovascular', 'DevelopmentUnit_NeuroScience', 'DevelopmentUnit_Oncology', 'DevelopmentUnit_Respiratory',\n",
        "                     'Phase_Phase I', 'Phase_Phase II', 'Phase_Phase III', 'Phase_Phase IV',\n",
        "                     'New Indication_No', 'New Indication_Yes', 'Blinding_Double Blind', 'Blinding_Open Label', 'Blinding_Single Blind',\n",
        "                     'PediatricOnly_No', 'PediatricOnly_Yes'])\n",
        "\n",
        "\n",
        "user_input = get_user_input()\n",
        "\n",
        "\n",
        "user_input_CTT_FP = {\n",
        "    'DevelopmentUnit': user_input['DevelopmentUnit'],\n",
        "    'Phase': user_input['Phase'],\n",
        "    'New Indication': user_input['New Indication'],\n",
        "    'Blinding': user_input['Blinding'],\n",
        "    'PediatricOnly': user_input['PediatricOnly']\n",
        "}\n",
        "for country in countries:\n",
        "    user_input_FP_FSI = {\n",
        "        'Country': country,\n",
        "        'DevelopmentUnit': user_input['DevelopmentUnit'],\n",
        "        'Phase': user_input['Phase'],\n",
        "        'New Indication': user_input['New Indication'],\n",
        "        'Blinding': user_input['Blinding'],\n",
        "        'PediatricOnly': user_input['PediatricOnly']\n",
        "    }\n",
        "\n",
        "\n",
        "    input_df1 = convert_to_dataframe(user_input_CTT_FP, columns1)\n",
        "    input_df2 = convert_to_dataframe(user_input_FP_FSI, columns2)\n",
        "\n",
        "\n",
        "    y_pred1 = best_rf.predict(input_df1)\n",
        "    y_pred2 = best_model.predict(input_df2)\n",
        "\n",
        "\n",
        "    rounded_y_pred1 = round(y_pred1[0])\n",
        "    rounded_y_pred2 = round(y_pred2[0])\n",
        "\n",
        "    total_weeks = rounded_y_pred1 + rounded_y_pred2\n",
        "    results.append((country, total_weeks))\n",
        "\n",
        "\n",
        "results.sort(key=lambda x: x[1])\n",
        "\n",
        "\n",
        "print(\"Top 5 countries:\")\n",
        "for country, weeks in results[:5]:\n",
        "    print(f\"{country}: {weeks} weeks\")"
      ],
      "cell_type": "code",
      "metadata": {
        "colab": {
          "base_uri": "https://localhost:8080/"
        },
        "id": "gvzzbd3cmd7-",
        "outputId": "c4e51ef1-8681-4c4d-9053-a1301137a117"
      },
      "execution_count": null,
      "outputs": [
        {
          "output_type": "stream",
          "name": "stdout",
          "text": [
            "Development Unit (Cardiovascular, NeuroScience, Oncology, Respiratory): Oncology\n",
            "Phase (Phase I, Phase II, Phase III, Phase IV): Phase IV\n",
            "Is this a new indication? (Yes, No): Yes\n",
            "Enter Blinding (Double Blind, Open Label, Single Blind): Single Blind\n",
            "Is this pediatric only (Yes, No): Yes\n",
            "Top 5 countries:\n",
            "Japan: 122 weeks\n",
            "USA: 122 weeks\n",
            "Australia: 123 weeks\n",
            "Canada: 123 weeks\n",
            "France: 123 weeks\n"
          ]
        }
      ]
    }
  ]
}